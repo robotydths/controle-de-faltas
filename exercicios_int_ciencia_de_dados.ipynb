{
  "nbformat": 4,
  "nbformat_minor": 0,
  "metadata": {
    "colab": {
      "provenance": [],
      "authorship_tag": "ABX9TyM1hy4RHv0QbhA7vApfDicS",
      "include_colab_link": true
    },
    "kernelspec": {
      "name": "python3",
      "display_name": "Python 3"
    },
    "language_info": {
      "name": "python"
    }
  },
  "cells": [
    {
      "cell_type": "markdown",
      "metadata": {
        "id": "view-in-github",
        "colab_type": "text"
      },
      "source": [
        "<a href=\"https://colab.research.google.com/github/robotydths/controle-de-faltas/blob/main/exercicios_int_ciencia_de_dados.ipynb\" target=\"_parent\"><img src=\"https://colab.research.google.com/assets/colab-badge.svg\" alt=\"Open In Colab\"/></a>"
      ]
    },
    {
      "cell_type": "code",
      "execution_count": 19,
      "metadata": {
        "id": "vHO9L4xBMRI4",
        "colab": {
          "base_uri": "https://localhost:8080/"
        },
        "outputId": "f93a0a01-3179-4199-88c5-5ba4e5a1363a"
      },
      "outputs": [
        {
          "output_type": "stream",
          "name": "stdout",
          "text": [
            "Insira um valor1\n",
            "O valor é ímpar\n"
          ]
        }
      ],
      "source": [
        "valor= int(input('Insira um valor'))\n",
        "if valor % 2 == 0:\n",
        "  print('O valor é par')\n",
        "else:\n",
        "  print('O valor é ímpar')"
      ]
    },
    {
      "cell_type": "code",
      "source": [
        "  ano= int(input('Insira o ano'))\n",
        "  if ano % 4 == 0 and ano % 100 != 0\n",
        "    print('O ano é bissexto')\n",
        "  else:\n",
        "    print('O ano não é bissexto')"
      ],
      "metadata": {
        "colab": {
          "base_uri": "https://localhost:8080/"
        },
        "id": "ZQ2evnd4nLkL",
        "outputId": "9ee9f191-faee-4862-e2a2-99a341c92240"
      },
      "execution_count": 64,
      "outputs": [
        {
          "output_type": "stream",
          "name": "stdout",
          "text": [
            "Insira o ano0\n",
            "O ano não é bissexto\n"
          ]
        }
      ]
    },
    {
      "cell_type": "code",
      "source": [
        "val1= float(input('Insira um valor'))\n",
        "val2= float(input('Insira mais um valor'))\n",
        "if val1 > val2:\n",
        "  print(val1)\n",
        "else:\n",
        "  print(val2)"
      ],
      "metadata": {
        "colab": {
          "base_uri": "https://localhost:8080/"
        },
        "id": "Jg9_rs0Dohhz",
        "outputId": "8f3205c4-d1ef-4120-a770-2e56cd51a800"
      },
      "execution_count": 36,
      "outputs": [
        {
          "output_type": "stream",
          "name": "stdout",
          "text": [
            "Insira um valor1\n",
            "Insira mais um valor1\n",
            "1.0\n"
          ]
        }
      ]
    },
    {
      "cell_type": "code",
      "source": [
        "val1= float(input('Insira um valor'))\n",
        "val2= float(input('Insira mais um valor'))\n",
        "if val1 > val2:\n",
        "  print(f'O maior valor é {val1}')\n",
        "elif val1 == val2:\n",
        "  print('Os números são iguais')\n",
        "else:\n",
        "  print(f'O maior valor é {val2}')"
      ],
      "metadata": {
        "colab": {
          "base_uri": "https://localhost:8080/"
        },
        "id": "EfriM0f7o8vy",
        "outputId": "4792c5e2-2570-442d-fd8a-f2a52e0eb1a9"
      },
      "execution_count": 44,
      "outputs": [
        {
          "output_type": "stream",
          "name": "stdout",
          "text": [
            "Insira um valor1\n",
            "Insira mais um valor1\n",
            "Os números são iguais\n"
          ]
        }
      ]
    },
    {
      "cell_type": "code",
      "source": [
        "idade= int(input('Qual a sua idade?'))\n",
        "if idade < 18:\n",
        "  print('Jovem')\n",
        "elif idade >= 18 and idade < 60:\n",
        "  print('Adulto')\n",
        "else:\n",
        "  print('Idoso')"
      ],
      "metadata": {
        "id": "XMKx7-FZprV8"
      },
      "execution_count": null,
      "outputs": []
    }
  ]
}